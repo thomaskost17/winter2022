{
 "cells": [
  {
   "cell_type": "markdown",
   "metadata": {},
   "source": [
    "## This is the softmax workbook for ECE C147/C247 Assignment #2\n",
    "\n",
    "Please follow the notebook linearly to implement a softmax classifier.\n",
    "\n",
    "Please print out the workbook entirely when completed.\n",
    "\n",
    "The goal of this workbook is to give you experience with training a softmax classifier."
   ]
  },
  {
   "cell_type": "code",
   "execution_count": 2,
   "metadata": {},
   "outputs": [],
   "source": [
    "import random\n",
    "import numpy as np\n",
    "from utils.data_utils import load_CIFAR10\n",
    "import matplotlib.pyplot as plt\n",
    "\n",
    "%matplotlib inline\n",
    "%load_ext autoreload\n",
    "%autoreload 2"
   ]
  },
  {
   "cell_type": "code",
   "execution_count": 3,
   "metadata": {
    "scrolled": true
   },
   "outputs": [
    {
     "name": "stdout",
     "output_type": "stream",
     "text": [
      "Train data shape:  (49000, 3073)\n",
      "Train labels shape:  (49000,)\n",
      "Validation data shape:  (1000, 3073)\n",
      "Validation labels shape:  (1000,)\n",
      "Test data shape:  (1000, 3073)\n",
      "Test labels shape:  (1000,)\n",
      "dev data shape:  (500, 3073)\n",
      "dev labels shape:  (500,)\n"
     ]
    }
   ],
   "source": [
    "def get_CIFAR10_data(num_training=49000, num_validation=1000, num_test=1000, num_dev=500):\n",
    "    \"\"\"\n",
    "    Load the CIFAR-10 dataset from disk and perform preprocessing to prepare\n",
    "    it for the linear classifier. These are the same steps as we used for the\n",
    "    SVM, but condensed to a single function.  \n",
    "    \"\"\"\n",
    "    # Load the raw CIFAR-10 data\n",
    "    cifar10_dir = 'cifar-10-batches-py' # You need to update this line\n",
    "    X_train, y_train, X_test, y_test = load_CIFAR10(cifar10_dir)\n",
    "    \n",
    "    # subsample the data\n",
    "    mask = list(range(num_training, num_training + num_validation))\n",
    "    X_val = X_train[mask]\n",
    "    y_val = y_train[mask]\n",
    "    mask = list(range(num_training))\n",
    "    X_train = X_train[mask]\n",
    "    y_train = y_train[mask]\n",
    "    mask = list(range(num_test))\n",
    "    X_test = X_test[mask]\n",
    "    y_test = y_test[mask]\n",
    "    mask = np.random.choice(num_training, num_dev, replace=False)\n",
    "    X_dev = X_train[mask]\n",
    "    y_dev = y_train[mask]\n",
    "    \n",
    "    # Preprocessing: reshape the image data into rows\n",
    "    X_train = np.reshape(X_train, (X_train.shape[0], -1))\n",
    "    X_val = np.reshape(X_val, (X_val.shape[0], -1))\n",
    "    X_test = np.reshape(X_test, (X_test.shape[0], -1))\n",
    "    X_dev = np.reshape(X_dev, (X_dev.shape[0], -1))\n",
    "    \n",
    "    # Normalize the data: subtract the mean image\n",
    "    mean_image = np.mean(X_train, axis = 0)\n",
    "    X_train -= mean_image\n",
    "    X_val -= mean_image\n",
    "    X_test -= mean_image\n",
    "    X_dev -= mean_image\n",
    "    \n",
    "    # add bias dimension and transform into columns\n",
    "    X_train = np.hstack([X_train, np.ones((X_train.shape[0], 1))])\n",
    "    X_val = np.hstack([X_val, np.ones((X_val.shape[0], 1))])\n",
    "    X_test = np.hstack([X_test, np.ones((X_test.shape[0], 1))])\n",
    "    X_dev = np.hstack([X_dev, np.ones((X_dev.shape[0], 1))])\n",
    "    \n",
    "    return X_train, y_train, X_val, y_val, X_test, y_test, X_dev, y_dev\n",
    "\n",
    "\n",
    "# Invoke the above function to get our data.\n",
    "X_train, y_train, X_val, y_val, X_test, y_test, X_dev, y_dev = get_CIFAR10_data()\n",
    "print('Train data shape: ', X_train.shape)\n",
    "print('Train labels shape: ', y_train.shape)\n",
    "print('Validation data shape: ', X_val.shape)\n",
    "print('Validation labels shape: ', y_val.shape)\n",
    "print('Test data shape: ', X_test.shape)\n",
    "print('Test labels shape: ', y_test.shape)\n",
    "print('dev data shape: ', X_dev.shape)\n",
    "print('dev labels shape: ', y_dev.shape)"
   ]
  },
  {
   "cell_type": "markdown",
   "metadata": {},
   "source": [
    "## Training a softmax classifier.\n",
    "\n",
    "The following cells will take you through building a softmax classifier.  You will implement its loss function, then subsequently train it with gradient descent.  Finally, you will choose the learning rate of gradient descent to optimize its classification performance."
   ]
  },
  {
   "cell_type": "code",
   "execution_count": 4,
   "metadata": {},
   "outputs": [],
   "source": [
    "from nndl import Softmax"
   ]
  },
  {
   "cell_type": "code",
   "execution_count": 5,
   "metadata": {},
   "outputs": [],
   "source": [
    "# Declare an instance of the Softmax class.  \n",
    "# Weights are initialized to a random value.\n",
    "# Note, to keep people's first solutions consistent, we are going to use a random seed.\n",
    "\n",
    "np.random.seed(1)\n",
    "\n",
    "num_classes = len(np.unique(y_train))\n",
    "num_features = X_train.shape[1]\n",
    "softmax = Softmax(dims=[num_classes, num_features])"
   ]
  },
  {
   "cell_type": "markdown",
   "metadata": {},
   "source": [
    "#### Softmax loss"
   ]
  },
  {
   "cell_type": "code",
   "execution_count": 6,
   "metadata": {},
   "outputs": [],
   "source": [
    "## Implement the loss function of the softmax using a for loop over\n",
    "#  the number of examples\n",
    "\n",
    "loss = softmax.loss(X_train, y_train)"
   ]
  },
  {
   "cell_type": "code",
   "execution_count": 7,
   "metadata": {},
   "outputs": [
    {
     "name": "stdout",
     "output_type": "stream",
     "text": [
      "[2.3277607]\n"
     ]
    }
   ],
   "source": [
    "print(loss)"
   ]
  },
  {
   "cell_type": "markdown",
   "metadata": {},
   "source": [
    "## Question: \n",
    "\n",
    "You'll notice the loss returned by the softmax is about 2.3 (if implemented correctly).  Why does this make sense?"
   ]
  },
  {
   "cell_type": "markdown",
   "metadata": {},
   "source": [
    "## Answer:\n",
    "\n",
    "This makes sense as we have not trained the classifier yet, we are simply calculating a normalized loss on a random set of classification vectors. As a result, the vectors should not accurately represent the data and thus lead to a large normalized loss. It makes sense that the value is not extremely large as the initial guess has a small norm. Additonally, the loss has been normalzied."
   ]
  },
  {
   "cell_type": "markdown",
   "metadata": {},
   "source": [
    "#### Softmax gradient"
   ]
  },
  {
   "cell_type": "code",
   "execution_count": 8,
   "metadata": {
    "scrolled": false
   },
   "outputs": [
    {
     "name": "stdout",
     "output_type": "stream",
     "text": [
      "numerical: -0.094231 analytic: -0.094231, relative error: 3.358148e-07\n",
      "numerical: -0.273894 analytic: -0.273894, relative error: 5.743756e-08\n",
      "numerical: 0.571406 analytic: 0.571406, relative error: 2.288228e-09\n",
      "numerical: 2.481332 analytic: 2.481332, relative error: 6.601671e-09\n",
      "numerical: 0.521445 analytic: 0.521445, relative error: 5.902726e-08\n",
      "numerical: 2.882311 analytic: 2.882311, relative error: 1.770825e-08\n",
      "numerical: -0.126464 analytic: -0.126464, relative error: 4.546086e-07\n",
      "numerical: -0.551219 analytic: -0.551219, relative error: 3.137158e-10\n",
      "numerical: 0.598242 analytic: 0.598242, relative error: 1.344027e-09\n",
      "numerical: -2.998195 analytic: -2.998195, relative error: 1.825305e-08\n"
     ]
    }
   ],
   "source": [
    "## Calculate the gradient of the softmax loss in the Softmax class.\n",
    "# For convenience, we'll write one function that computes the loss\n",
    "#   and gradient together, softmax.loss_and_grad(X, y)\n",
    "# You may copy and paste your loss code from softmax.loss() here, and then\n",
    "#   use the appropriate intermediate values to calculate the gradient.\n",
    "\n",
    "loss, grad = softmax.loss_and_grad(X_dev,y_dev)\n",
    "\n",
    "# Compare your gradient to a gradient check we wrote. \n",
    "# You should see relative gradient errors on the order of 1e-07 or less if you implemented the gradient correctly.\n",
    "softmax.grad_check_sparse(X_dev, y_dev, grad)"
   ]
  },
  {
   "cell_type": "markdown",
   "metadata": {},
   "source": [
    "## A vectorized version of Softmax\n",
    "\n",
    "To speed things up, we will vectorize the loss and gradient calculations.  This will be helpful for stochastic gradient descent."
   ]
  },
  {
   "cell_type": "code",
   "execution_count": 9,
   "metadata": {},
   "outputs": [],
   "source": [
    "import time"
   ]
  },
  {
   "cell_type": "code",
   "execution_count": 10,
   "metadata": {},
   "outputs": [
    {
     "name": "stdout",
     "output_type": "stream",
     "text": [
      "Normal loss / grad_norm: [2.31663569] / 352.6632020772778 computed in 0.26932787895202637s\n",
      "Vectorized loss / grad: [2.31663569] / 352.6632020772778 computed in 0.006504058837890625s\n",
      "difference in loss / grad: [-2.66453526e-15] /2.3709429200456677e-13 \n"
     ]
    }
   ],
   "source": [
    "## Implement softmax.fast_loss_and_grad which calculates the loss and gradient\n",
    "#    WITHOUT using any for loops.  \n",
    "\n",
    "# Standard loss and gradient\n",
    "tic = time.time()\n",
    "loss, grad = softmax.loss_and_grad(X_dev, y_dev)\n",
    "toc = time.time()\n",
    "print('Normal loss / grad_norm: {} / {} computed in {}s'.format(loss, np.linalg.norm(grad, 'fro'), toc - tic))\n",
    "\n",
    "tic = time.time()\n",
    "loss_vectorized, grad_vectorized = softmax.fast_loss_and_grad(X_dev, y_dev)\n",
    "toc = time.time()\n",
    "print('Vectorized loss / grad: {} / {} computed in {}s'.format(loss_vectorized, np.linalg.norm(grad_vectorized, 'fro'), toc - tic))\n",
    "\n",
    "# The losses should match but your vectorized implementation should be much faster.\n",
    "print('difference in loss / grad: {} /{} '.format(loss - loss_vectorized, np.linalg.norm(grad - grad_vectorized)))\n",
    "\n",
    "# You should notice a speedup with the same output."
   ]
  },
  {
   "cell_type": "markdown",
   "metadata": {},
   "source": [
    "## Stochastic gradient descent\n",
    "\n",
    "We now implement stochastic gradient descent.  This uses the same principles of gradient descent we discussed in class, however, it calculates the gradient by only using examples from a subset of the training set (so each gradient calculation is faster)."
   ]
  },
  {
   "cell_type": "markdown",
   "metadata": {},
   "source": [
    "## Question:\n",
    "\n",
    "How should the softmax gradient descent training step differ from the svm training step, if at all?"
   ]
  },
  {
   "cell_type": "markdown",
   "metadata": {},
   "source": [
    "## Answer:\n",
    "\n",
    "Question to be ignored."
   ]
  },
  {
   "cell_type": "code",
   "execution_count": 11,
   "metadata": {
    "scrolled": false
   },
   "outputs": [
    {
     "name": "stdout",
     "output_type": "stream",
     "text": [
      "iteration 0 / 1500: loss [2.29890543]\n",
      "iteration 100 / 1500: loss [2.04284746]\n",
      "iteration 200 / 1500: loss [2.01938856]\n",
      "iteration 300 / 1500: loss [1.88237294]\n",
      "iteration 400 / 1500: loss [1.90184648]\n",
      "iteration 500 / 1500: loss [1.88075198]\n",
      "iteration 600 / 1500: loss [1.83059957]\n",
      "iteration 700 / 1500: loss [1.92422133]\n",
      "iteration 800 / 1500: loss [1.85980518]\n",
      "iteration 900 / 1500: loss [1.76067328]\n",
      "iteration 1000 / 1500: loss [1.76210714]\n",
      "iteration 1100 / 1500: loss [1.87030925]\n",
      "iteration 1200 / 1500: loss [1.78090716]\n",
      "iteration 1300 / 1500: loss [1.82938253]\n",
      "iteration 1400 / 1500: loss [1.89104848]\n",
      "That took 9.806801795959473s\n"
     ]
    },
    {
     "data": {
      "image/png": "[encoded data removed]",
      "image/svg+xml": "<?xml version=\"1.0\" encoding=\"utf-8\" standalone=\"no\"?>\n<!DOCTYPE svg PUBLIC \"-//W3C//DTD SVG 1.1//EN\"\n  \"http://www.w3.org/Graphics/SVG/1.1/DTD/svg11.dtd\">\n<svg xmlns:xlink=\"http://www.w3.org/1999/xlink\" width=\"385.78125pt\" height=\"262.19625pt\" viewBox=\"0 0 385.78125 262.19625\" xmlns=\"http://www.w3.org/2000/svg\" version=\"1.1\">\n <metadata>\n  <rdf:RDF xmlns:dc=\"http://purl.org/dc/elements/1.1/\" xmlns:cc=\"http://creativecommons.org/ns#\" xmlns:rdf=\"http://www.w3.org/1999/02/22-rdf-syntax-ns#\">\n   <cc:Work>\n    <dc:type rdf:resource=\"http://purl.org/dc/dcmitype/StillImage\"/>\n    <dc:date>2022-01-24T20:10:10.855108</dc:date>\n    <dc:format>image/svg+xml</dc:format>\n    <dc:creator>\n     <cc:Agent>\n      <dc:title>Matplotlib v3.5.1, https://matplotlib.org/</dc:title>\n     </cc:Agent>\n    </dc:creator>\n   </cc:Work>\n  </rdf:RDF>\n </metadata>\n <defs>\n  <style type=\"text/css\">*{stroke-linejoin: round; stroke-linecap: butt}</style>\n </defs>\n <g id=\"figure_1\">\n  <g id=\"patch_1\">\n   <path d=\"M 0 262.19625 \nL 385.78125 262.19625 \nL 385.78125 0 \nL 0 0 \nL 0 262.19625 \nz\n\" style=\"fill: none\"/>\n  </g>\n  <g id=\"axes_1\">\n   <g id=\"patch_2\">\n    <path d=\"M 43.78125 224.64 \nL 378.58125 224.64 \nL 378.58125 7.2 \nL 43.78125 7.2 \nz\n\" style=\"fill: #ffffff\"/>\n   </g>\n   <g id=\"matplotlib.axis_1\">\n    <g id=\"xtick_1\">\n     <g id=\"line2d_1\">\n      <defs>\n       <path id=\"m95fec91997\" d=\"M 0 0 \nL 0 3.5 \n\" style=\"stroke: #000000; stroke-width: 0.8\"/>\n      </defs>\n      <g>\n       <use xlink:href=\"#m95fec91997\" x=\"58.999432\" y=\"224.64\" style=\"stroke: #000000; stroke-width: 0.8\"/>\n      </g>\n     </g>\n     <g id=\"text_1\">\n      <!-- 0 -->\n      <g transform=\"translate(55.818182 239.238437)scale(0.1 -0.1)\">\n       <defs>\n        <path id=\"DejaVuSans-30\" d=\"M 2034 4250 \nQ 1547 4250 1301 3770 \nQ 1056 3291 1056 2328 \nQ 1056 1369 1301 889 \nQ 1547 409 2034 409 \nQ 2525 409 2770 889 \nQ 3016 1369 3016 2328 \nQ 3016 3291 2770 3770 \nQ 2525 4250 2034 4250 \nz\nM 2034 4750 \nQ 2819 4750 3233 4129 \nQ 3647 3509 3647 2328 \nQ 3647 1150 3233 529 \nQ 2819 -91 2034 -91 \nQ 1250 -91 836 529 \nQ 422 1150 422 2328 \nQ 422 3509 836 4129 \nQ 1250 4750 2034 4750 \nz\n\" transform=\"scale(0.015625)\"/>\n       </defs>\n       <use xlink:href=\"#DejaVuSans-30\"/>\n      </g>\n     </g>\n    </g>\n    <g id=\"xtick_2\">\n     <g id=\"line2d_2\">\n      <g>\n       <use xlink:href=\"#m95fec91997\" x=\"99.608323\" y=\"224.64\" style=\"stroke: #000000; stroke-width: 0.8\"/>\n      </g>\n     </g>\n     <g id=\"text_2\">\n      <!-- 200 -->\n      <g transform=\"translate(90.064573 239.238437)scale(0.1 -0.1)\">\n       <defs>\n        <path id=\"DejaVuSans-32\" d=\"M 1228 531 \nL 3431 531 \nL 3431 0 \nL 469 0 \nL 469 531 \nQ 828 903 1448 1529 \nQ 2069 2156 2228 2338 \nQ 2531 2678 2651 2914 \nQ 2772 3150 2772 3378 \nQ 2772 3750 2511 3984 \nQ 2250 4219 1831 4219 \nQ 1534 4219 1204 4116 \nQ 875 4013 500 3803 \nL 500 4441 \nQ 881 4594 1212 4672 \nQ 1544 4750 1819 4750 \nQ 2544 4750 2975 4387 \nQ 3406 4025 3406 3419 \nQ 3406 3131 3298 2873 \nQ 3191 2616 2906 2266 \nQ 2828 2175 2409 1742 \nQ 1991 1309 1228 531 \nz\n\" transform=\"scale(0.015625)\"/>\n       </defs>\n       <use xlink:href=\"#DejaVuSans-32\"/>\n       <use xlink:href=\"#DejaVuSans-30\" x=\"63.623047\"/>\n       <use xlink:href=\"#DejaVuSans-30\" x=\"127.246094\"/>\n      </g>\n     </g>\n    </g>\n    <g id=\"xtick_3\">\n     <g id=\"line2d_3\">\n      <g>\n       <use xlink:href=\"#m95fec91997\" x=\"140.217213\" y=\"224.64\" style=\"stroke: #000000; stroke-width: 0.8\"/>\n      </g>\n     </g>\n     <g id=\"text_3\">\n      <!-- 400 -->\n      <g transform=\"translate(130.673463 239.238437)scale(0.1 -0.1)\">\n       <defs>\n        <path id=\"DejaVuSans-34\" d=\"M 2419 4116 \nL 825 1625 \nL 2419 1625 \nL 2419 4116 \nz\nM 2253 4666 \nL 3047 4666 \nL 3047 1625 \nL 3713 1625 \nL 3713 1100 \nL 3047 1100 \nL 3047 0 \nL 2419 0 \nL 2419 1100 \nL 313 1100 \nL 313 1709 \nL 2253 4666 \nz\n\" transform=\"scale(0.015625)\"/>\n       </defs>\n       <use xlink:href=\"#DejaVuSans-34\"/>\n       <use xlink:href=\"#DejaVuSans-30\" x=\"63.623047\"/>\n       <use xlink:href=\"#DejaVuSans-30\" x=\"127.246094\"/>\n      </g>\n     </g>\n    </g>\n    <g id=\"xtick_4\">\n     <g id=\"line2d_4\">\n      <g>\n       <use xlink:href=\"#m95fec91997\" x=\"180.826104\" y=\"224.64\" style=\"stroke: #000000; stroke-width: 0.8\"/>\n      </g>\n     </g>\n     <g id=\"text_4\">\n      <!-- 600 -->\n      <g transform=\"translate(171.282354 239.238437)scale(0.1 -0.1)\">\n       <defs>\n        <path id=\"DejaVuSans-36\" d=\"M 2113 2584 \nQ 1688 2584 1439 2293 \nQ 1191 2003 1191 1497 \nQ 1191 994 1439 701 \nQ 1688 409 2113 409 \nQ 2538 409 2786 701 \nQ 3034 994 3034 1497 \nQ 3034 2003 2786 2293 \nQ 2538 2584 2113 2584 \nz\nM 3366 4563 \nL 3366 3988 \nQ 3128 4100 2886 4159 \nQ 2644 4219 2406 4219 \nQ 1781 4219 1451 3797 \nQ 1122 3375 1075 2522 \nQ 1259 2794 1537 2939 \nQ 1816 3084 2150 3084 \nQ 2853 3084 3261 2657 \nQ 3669 2231 3669 1497 \nQ 3669 778 3244 343 \nQ 2819 -91 2113 -91 \nQ 1303 -91 875 529 \nQ 447 1150 447 2328 \nQ 447 3434 972 4092 \nQ 1497 4750 2381 4750 \nQ 2619 4750 2861 4703 \nQ 3103 4656 3366 4563 \nz\n\" transform=\"scale(0.015625)\"/>\n       </defs>\n       <use xlink:href=\"#DejaVuSans-36\"/>\n       <use xlink:href=\"#DejaVuSans-30\" x=\"63.623047\"/>\n       <use xlink:href=\"#DejaVuSans-30\" x=\"127.246094\"/>\n      </g>\n     </g>\n    </g>\n    <g id=\"xtick_5\">\n     <g id=\"line2d_5\">\n      <g>\n       <use xlink:href=\"#m95fec91997\" x=\"221.434995\" y=\"224.64\" style=\"stroke: #000000; stroke-width: 0.8\"/>\n      </g>\n     </g>\n     <g id=\"text_5\">\n      <!-- 800 -->\n      <g transform=\"translate(211.891245 239.238437)scale(0.1 -0.1)\">\n       <defs>\n        <path id=\"DejaVuSans-38\" d=\"M 2034 2216 \nQ 1584 2216 1326 1975 \nQ 1069 1734 1069 1313 \nQ 1069 891 1326 650 \nQ 1584 409 2034 409 \nQ 2484 409 2743 651 \nQ 3003 894 3003 1313 \nQ 3003 1734 2745 1975 \nQ 2488 2216 2034 2216 \nz\nM 1403 2484 \nQ 997 2584 770 2862 \nQ 544 3141 544 3541 \nQ 544 4100 942 4425 \nQ 1341 4750 2034 4750 \nQ 2731 4750 3128 4425 \nQ 3525 4100 3525 3541 \nQ 3525 3141 3298 2862 \nQ 3072 2584 2669 2484 \nQ 3125 2378 3379 2068 \nQ 3634 1759 3634 1313 \nQ 3634 634 3220 271 \nQ 2806 -91 2034 -91 \nQ 1263 -91 848 271 \nQ 434 634 434 1313 \nQ 434 1759 690 2068 \nQ 947 2378 1403 2484 \nz\nM 1172 3481 \nQ 1172 3119 1398 2916 \nQ 1625 2713 2034 2713 \nQ 2441 2713 2670 2916 \nQ 2900 3119 2900 3481 \nQ 2900 3844 2670 4047 \nQ 2441 4250 2034 4250 \nQ 1625 4250 1398 4047 \nQ 1172 3844 1172 3481 \nz\n\" transform=\"scale(0.015625)\"/>\n       </defs>\n       <use xlink:href=\"#DejaVuSans-38\"/>\n       <use xlink:href=\"#DejaVuSans-30\" x=\"63.623047\"/>\n       <use xlink:href=\"#DejaVuSans-30\" x=\"127.246094\"/>\n      </g>\n     </g>\n    </g>\n    <g id=\"xtick_6\">\n     <g id=\"line2d_6\">\n      <g>\n       <use xlink:href=\"#m95fec91997\" x=\"262.043886\" y=\"224.64\" style=\"stroke: #000000; stroke-width: 0.8\"/>\n      </g>\n     </g>\n     <g id=\"text_6\">\n      <!-- 1000 -->\n      <g transform=\"translate(249.318886 239.238437)scale(0.1 -0.1)\">\n       <defs>\n        <path id=\"DejaVuSans-31\" d=\"M 794 531 \nL 1825 531 \nL 1825 4091 \nL 703 3866 \nL 703 4441 \nL 1819 4666 \nL 2450 4666 \nL 2450 531 \nL 3481 531 \nL 3481 0 \nL 794 0 \nL 794 531 \nz\n\" transform=\"scale(0.015625)\"/>\n       </defs>\n       <use xlink:href=\"#DejaVuSans-31\"/>\n       <use xlink:href=\"#DejaVuSans-30\" x=\"63.623047\"/>\n       <use xlink:href=\"#DejaVuSans-30\" x=\"127.246094\"/>\n       <use xlink:href=\"#DejaVuSans-30\" x=\"190.869141\"/>\n      </g>\n     </g>\n    </g>\n    <g id=\"xtick_7\">\n     <g id=\"line2d_7\">\n      <g>\n       <use xlink:href=\"#m95fec91997\" x=\"302.652776\" y=\"224.64\" style=\"stroke: #000000; stroke-width: 0.8\"/>\n      </g>\n     </g>\n     <g id=\"text_7\">\n      <!-- 1200 -->\n      <g transform=\"translate(289.927776 239.238437)scale(0.1 -0.1)\">\n       <use xlink:href=\"#DejaVuSans-31\"/>\n       <use xlink:href=\"#DejaVuSans-32\" x=\"63.623047\"/>\n       <use xlink:href=\"#DejaVuSans-30\" x=\"127.246094\"/>\n       <use xlink:href=\"#DejaVuSans-30\" x=\"190.869141\"/>\n      </g>\n     </g>\n    </g>\n    <g id=\"xtick_8\">\n     <g id=\"line2d_8\">\n      <g>\n       <use xlink:href=\"#m95fec91997\" x=\"343.261667\" y=\"224.64\" style=\"stroke: #000000; stroke-width: 0.8\"/>\n      </g>\n     </g>\n     <g id=\"text_8\">\n      <!-- 1400 -->\n      <g transform=\"translate(330.536667 239.238437)scale(0.1 -0.1)\">\n       <use xlink:href=\"#DejaVuSans-31\"/>\n       <use xlink:href=\"#DejaVuSans-34\" x=\"63.623047\"/>\n       <use xlink:href=\"#DejaVuSans-30\" x=\"127.246094\"/>\n       <use xlink:href=\"#DejaVuSans-30\" x=\"190.869141\"/>\n      </g>\n     </g>\n    </g>\n    <g id=\"text_9\">\n     <!-- Iteration number -->\n     <g transform=\"translate(168.869531 252.916562)scale(0.1 -0.1)\">\n      <defs>\n       <path id=\"DejaVuSans-49\" d=\"M 628 4666 \nL 1259 4666 \nL 1259 0 \nL 628 0 \nL 628 4666 \nz\n\" transform=\"scale(0.015625)\"/>\n       <path id=\"DejaVuSans-74\" d=\"M 1172 4494 \nL 1172 3500 \nL 2356 3500 \nL 2356 3053 \nL 1172 3053 \nL 1172 1153 \nQ 1172 725 1289 603 \nQ 1406 481 1766 481 \nL 2356 481 \nL 2356 0 \nL 1766 0 \nQ 1100 0 847 248 \nQ 594 497 594 1153 \nL 594 3053 \nL 172 3053 \nL 172 3500 \nL 594 3500 \nL 594 4494 \nL 1172 4494 \nz\n\" transform=\"scale(0.015625)\"/>\n       <path id=\"DejaVuSans-65\" d=\"M 3597 1894 \nL 3597 1613 \nL 953 1613 \nQ 991 1019 1311 708 \nQ 1631 397 2203 397 \nQ 2534 397 2845 478 \nQ 3156 559 3463 722 \nL 3463 178 \nQ 3153 47 2828 -22 \nQ 2503 -91 2169 -91 \nQ 1331 -91 842 396 \nQ 353 884 353 1716 \nQ 353 2575 817 3079 \nQ 1281 3584 2069 3584 \nQ 2775 3584 3186 3129 \nQ 3597 2675 3597 1894 \nz\nM 3022 2063 \nQ 3016 2534 2758 2815 \nQ 2500 3097 2075 3097 \nQ 1594 3097 1305 2825 \nQ 1016 2553 972 2059 \nL 3022 2063 \nz\n\" transform=\"scale(0.015625)\"/>\n       <path id=\"DejaVuSans-72\" d=\"M 2631 2963 \nQ 2534 3019 2420 3045 \nQ 2306 3072 2169 3072 \nQ 1681 3072 1420 2755 \nQ 1159 2438 1159 1844 \nL 1159 0 \nL 581 0 \nL 581 3500 \nL 1159 3500 \nL 1159 2956 \nQ 1341 3275 1631 3429 \nQ 1922 3584 2338 3584 \nQ 2397 3584 2469 3576 \nQ 2541 3569 2628 3553 \nL 2631 2963 \nz\n\" transform=\"scale(0.015625)\"/>\n       <path id=\"DejaVuSans-61\" d=\"M 2194 1759 \nQ 1497 1759 1228 1600 \nQ 959 1441 959 1056 \nQ 959 750 1161 570 \nQ 1363 391 1709 391 \nQ 2188 391 2477 730 \nQ 2766 1069 2766 1631 \nL 2766 1759 \nL 2194 1759 \nz\nM 3341 1997 \nL 3341 0 \nL 2766 0 \nL 2766 531 \nQ 2569 213 2275 61 \nQ 1981 -91 1556 -91 \nQ 1019 -91 701 211 \nQ 384 513 384 1019 \nQ 384 1609 779 1909 \nQ 1175 2209 1959 2209 \nL 2766 2209 \nL 2766 2266 \nQ 2766 2663 2505 2880 \nQ 2244 3097 1772 3097 \nQ 1472 3097 1187 3025 \nQ 903 2953 641 2809 \nL 641 3341 \nQ 956 3463 1253 3523 \nQ 1550 3584 1831 3584 \nQ 2591 3584 2966 3190 \nQ 3341 2797 3341 1997 \nz\n\" transform=\"scale(0.015625)\"/>\n       <path id=\"DejaVuSans-69\" d=\"M 603 3500 \nL 1178 3500 \nL 1178 0 \nL 603 0 \nL 603 3500 \nz\nM 603 4863 \nL 1178 4863 \nL 1178 4134 \nL 603 4134 \nL 603 4863 \nz\n\" transform=\"scale(0.015625)\"/>\n       <path id=\"DejaVuSans-6f\" d=\"M 1959 3097 \nQ 1497 3097 1228 2736 \nQ 959 2375 959 1747 \nQ 959 1119 1226 758 \nQ 1494 397 1959 397 \nQ 2419 397 2687 759 \nQ 2956 1122 2956 1747 \nQ 2956 2369 2687 2733 \nQ 2419 3097 1959 3097 \nz\nM 1959 3584 \nQ 2709 3584 3137 3096 \nQ 3566 2609 3566 1747 \nQ 3566 888 3137 398 \nQ 2709 -91 1959 -91 \nQ 1206 -91 779 398 \nQ 353 888 353 1747 \nQ 353 2609 779 3096 \nQ 1206 3584 1959 3584 \nz\n\" transform=\"scale(0.015625)\"/>\n       <path id=\"DejaVuSans-6e\" d=\"M 3513 2113 \nL 3513 0 \nL 2938 0 \nL 2938 2094 \nQ 2938 2591 2744 2837 \nQ 2550 3084 2163 3084 \nQ 1697 3084 1428 2787 \nQ 1159 2491 1159 1978 \nL 1159 0 \nL 581 0 \nL 581 3500 \nL 1159 3500 \nL 1159 2956 \nQ 1366 3272 1645 3428 \nQ 1925 3584 2291 3584 \nQ 2894 3584 3203 3211 \nQ 3513 2838 3513 2113 \nz\n\" transform=\"scale(0.015625)\"/>\n       <path id=\"DejaVuSans-20\" transform=\"scale(0.015625)\"/>\n       <path id=\"DejaVuSans-75\" d=\"M 544 1381 \nL 544 3500 \nL 1119 3500 \nL 1119 1403 \nQ 1119 906 1312 657 \nQ 1506 409 1894 409 \nQ 2359 409 2629 706 \nQ 2900 1003 2900 1516 \nL 2900 3500 \nL 3475 3500 \nL 3475 0 \nL 2900 0 \nL 2900 538 \nQ 2691 219 2414 64 \nQ 2138 -91 1772 -91 \nQ 1169 -91 856 284 \nQ 544 659 544 1381 \nz\nM 1991 3584 \nL 1991 3584 \nz\n\" transform=\"scale(0.015625)\"/>\n       <path id=\"DejaVuSans-6d\" d=\"M 3328 2828 \nQ 3544 3216 3844 3400 \nQ 4144 3584 4550 3584 \nQ 5097 3584 5394 3201 \nQ 5691 2819 5691 2113 \nL 5691 0 \nL 5113 0 \nL 5113 2094 \nQ 5113 2597 4934 2840 \nQ 4756 3084 4391 3084 \nQ 3944 3084 3684 2787 \nQ 3425 2491 3425 1978 \nL 3425 0 \nL 2847 0 \nL 2847 2094 \nQ 2847 2600 2669 2842 \nQ 2491 3084 2119 3084 \nQ 1678 3084 1418 2786 \nQ 1159 2488 1159 1978 \nL 1159 0 \nL 581 0 \nL 581 3500 \nL 1159 3500 \nL 1159 2956 \nQ 1356 3278 1631 3431 \nQ 1906 3584 2284 3584 \nQ 2666 3584 2933 3390 \nQ 3200 3197 3328 2828 \nz\n\" transform=\"scale(0.015625)\"/>\n       <path id=\"DejaVuSans-62\" d=\"M 3116 1747 \nQ 3116 2381 2855 2742 \nQ 2594 3103 2138 3103 \nQ 1681 3103 1420 2742 \nQ 1159 2381 1159 1747 \nQ 1159 1113 1420 752 \nQ 1681 391 2138 391 \nQ 2594 391 2855 752 \nQ 3116 1113 3116 1747 \nz\nM 1159 2969 \nQ 1341 3281 1617 3432 \nQ 1894 3584 2278 3584 \nQ 2916 3584 3314 3078 \nQ 3713 2572 3713 1747 \nQ 3713 922 3314 415 \nQ 2916 -91 2278 -91 \nQ 1894 -91 1617 61 \nQ 1341 213 1159 525 \nL 1159 0 \nL 581 0 \nL 581 4863 \nL 1159 4863 \nL 1159 2969 \nz\n\" transform=\"scale(0.015625)\"/>\n      </defs>\n      <use xlink:href=\"#DejaVuSans-49\"/>\n      <use xlink:href=\"#DejaVuSans-74\" x=\"29.492188\"/>\n      <use xlink:href=\"#DejaVuSans-65\" x=\"68.701172\"/>\n      <use xlink:href=\"#DejaVuSans-72\" x=\"130.224609\"/>\n      <use xlink:href=\"#DejaVuSans-61\" x=\"171.337891\"/>\n      <use xlink:href=\"#DejaVuSans-74\" x=\"232.617188\"/>\n      <use xlink:href=\"#DejaVuSans-69\" x=\"271.826172\"/>\n      <use xlink:href=\"#DejaVuSans-6f\" x=\"299.609375\"/>\n      <use xlink:href=\"#DejaVuSans-6e\" x=\"360.791016\"/>\n      <use xlink:href=\"#DejaVuSans-20\" x=\"424.169922\"/>\n      <use xlink:href=\"#DejaVuSans-6e\" x=\"455.957031\"/>\n      <use xlink:href=\"#DejaVuSans-75\" x=\"519.335938\"/>\n      <use xlink:href=\"#DejaVuSans-6d\" x=\"582.714844\"/>\n      <use xlink:href=\"#DejaVuSans-62\" x=\"680.126953\"/>\n      <use xlink:href=\"#DejaVuSans-65\" x=\"743.603516\"/>\n      <use xlink:href=\"#DejaVuSans-72\" x=\"805.126953\"/>\n     </g>\n    </g>\n   </g>\n   <g id=\"matplotlib.axis_2\">\n    <g id=\"ytick_1\">\n     <g id=\"line2d_9\">\n      <defs>\n       <path id=\"meb2526aada\" d=\"M 0 0 \nL -3.5 0 \n\" style=\"stroke: #000000; stroke-width: 0.8\"/>\n      </defs>\n      <g>\n       <use xlink:href=\"#meb2526aada\" x=\"43.78125\" y=\"196.597918\" style=\"stroke: #000000; stroke-width: 0.8\"/>\n      </g>\n     </g>\n     <g id=\"text_10\">\n      <!-- 1.7 -->\n      <g transform=\"translate(20.878125 200.397137)scale(0.1 -0.1)\">\n       <defs>\n        <path id=\"DejaVuSans-2e\" d=\"M 684 794 \nL 1344 794 \nL 1344 0 \nL 684 0 \nL 684 794 \nz\n\" transform=\"scale(0.015625)\"/>\n        <path id=\"DejaVuSans-37\" d=\"M 525 4666 \nL 3525 4666 \nL 3525 4397 \nL 1831 0 \nL 1172 0 \nL 2766 4134 \nL 525 4134 \nL 525 4666 \nz\n\" transform=\"scale(0.015625)\"/>\n       </defs>\n       <use xlink:href=\"#DejaVuSans-31\"/>\n       <use xlink:href=\"#DejaVuSans-2e\" x=\"63.623047\"/>\n       <use xlink:href=\"#DejaVuSans-37\" x=\"95.410156\"/>\n      </g>\n     </g>\n    </g>\n    <g id=\"ytick_2\">\n     <g id=\"line2d_10\">\n      <g>\n       <use xlink:href=\"#meb2526aada\" x=\"43.78125\" y=\"167.562695\" style=\"stroke: #000000; stroke-width: 0.8\"/>\n      </g>\n     </g>\n     <g id=\"text_11\">\n      <!-- 1.8 -->\n      <g transform=\"translate(20.878125 171.361913)scale(0.1 -0.1)\">\n       <use xlink:href=\"#DejaVuSans-31\"/>\n       <use xlink:href=\"#DejaVuSans-2e\" x=\"63.623047\"/>\n       <use xlink:href=\"#DejaVuSans-38\" x=\"95.410156\"/>\n      </g>\n     </g>\n    </g>\n    <g id=\"ytick_3\">\n     <g id=\"line2d_11\">\n      <g>\n       <use xlink:href=\"#meb2526aada\" x=\"43.78125\" y=\"138.527472\" style=\"stroke: #000000; stroke-width: 0.8\"/>\n      </g>\n     </g>\n     <g id=\"text_12\">\n      <!-- 1.9 -->\n      <g transform=\"translate(20.878125 142.32669)scale(0.1 -0.1)\">\n       <defs>\n        <path id=\"DejaVuSans-39\" d=\"M 703 97 \nL 703 672 \nQ 941 559 1184 500 \nQ 1428 441 1663 441 \nQ 2288 441 2617 861 \nQ 2947 1281 2994 2138 \nQ 2813 1869 2534 1725 \nQ 2256 1581 1919 1581 \nQ 1219 1581 811 2004 \nQ 403 2428 403 3163 \nQ 403 3881 828 4315 \nQ 1253 4750 1959 4750 \nQ 2769 4750 3195 4129 \nQ 3622 3509 3622 2328 \nQ 3622 1225 3098 567 \nQ 2575 -91 1691 -91 \nQ 1453 -91 1209 -44 \nQ 966 3 703 97 \nz\nM 1959 2075 \nQ 2384 2075 2632 2365 \nQ 2881 2656 2881 3163 \nQ 2881 3666 2632 3958 \nQ 2384 4250 1959 4250 \nQ 1534 4250 1286 3958 \nQ 1038 3666 1038 3163 \nQ 1038 2656 1286 2365 \nQ 1534 2075 1959 2075 \nz\n\" transform=\"scale(0.015625)\"/>\n       </defs>\n       <use xlink:href=\"#DejaVuSans-31\"/>\n       <use xlink:href=\"#DejaVuSans-2e\" x=\"63.623047\"/>\n       <use xlink:href=\"#DejaVuSans-39\" x=\"95.410156\"/>\n      </g>\n     </g>\n    </g>\n    <g id=\"ytick_4\">\n     <g id=\"line2d_12\">\n      <g>\n       <use xlink:href=\"#meb2526aada\" x=\"43.78125\" y=\"109.492248\" style=\"stroke: #000000; stroke-width: 0.8\"/>\n      </g>\n     </g>\n     <g id=\"text_13\">\n      <!-- 2.0 -->\n      <g transform=\"translate(20.878125 113.291467)scale(0.1 -0.1)\">\n       <use xlink:href=\"#DejaVuSans-32\"/>\n       <use xlink:href=\"#DejaVuSans-2e\" x=\"63.623047\"/>\n       <use xlink:href=\"#DejaVuSans-30\" x=\"95.410156\"/>\n      </g>\n     </g>\n    </g>\n    <g id=\"ytick_5\">\n     <g id=\"line2d_13\">\n      <g>\n       <use xlink:href=\"#meb2526aada\" x=\"43.78125\" y=\"80.457025\" style=\"stroke: #000000; stroke-width: 0.8\"/>\n      </g>\n     </g>\n     <g id=\"text_14\">\n      <!-- 2.1 -->\n      <g transform=\"translate(20.878125 84.256244)scale(0.1 -0.1)\">\n       <use xlink:href=\"#DejaVuSans-32\"/>\n       <use xlink:href=\"#DejaVuSans-2e\" x=\"63.623047\"/>\n       <use xlink:href=\"#DejaVuSans-31\" x=\"95.410156\"/>\n      </g>\n     </g>\n    </g>\n    <g id=\"ytick_6\">\n     <g id=\"line2d_14\">\n      <g>\n       <use xlink:href=\"#meb2526aada\" x=\"43.78125\" y=\"51.421802\" style=\"stroke: #000000; stroke-width: 0.8\"/>\n      </g>\n     </g>\n     <g id=\"text_15\">\n      <!-- 2.2 -->\n      <g transform=\"translate(20.878125 55.221021)scale(0.1 -0.1)\">\n       <use xlink:href=\"#DejaVuSans-32\"/>\n       <use xlink:href=\"#DejaVuSans-2e\" x=\"63.623047\"/>\n       <use xlink:href=\"#DejaVuSans-32\" x=\"95.410156\"/>\n      </g>\n     </g>\n    </g>\n    <g id=\"ytick_7\">\n     <g id=\"line2d_15\">\n      <g>\n       <use xlink:href=\"#meb2526aada\" x=\"43.78125\" y=\"22.386579\" style=\"stroke: #000000; stroke-width: 0.8\"/>\n      </g>\n     </g>\n     <g id=\"text_16\">\n      <!-- 2.3 -->\n      <g transform=\"translate(20.878125 26.185798)scale(0.1 -0.1)\">\n       <defs>\n        <path id=\"DejaVuSans-33\" d=\"M 2597 2516 \nQ 3050 2419 3304 2112 \nQ 3559 1806 3559 1356 \nQ 3559 666 3084 287 \nQ 2609 -91 1734 -91 \nQ 1441 -91 1130 -33 \nQ 819 25 488 141 \nL 488 750 \nQ 750 597 1062 519 \nQ 1375 441 1716 441 \nQ 2309 441 2620 675 \nQ 2931 909 2931 1356 \nQ 2931 1769 2642 2001 \nQ 2353 2234 1838 2234 \nL 1294 2234 \nL 1294 2753 \nL 1863 2753 \nQ 2328 2753 2575 2939 \nQ 2822 3125 2822 3475 \nQ 2822 3834 2567 4026 \nQ 2313 4219 1838 4219 \nQ 1578 4219 1281 4162 \nQ 984 4106 628 3988 \nL 628 4550 \nQ 988 4650 1302 4700 \nQ 1616 4750 1894 4750 \nQ 2613 4750 3031 4423 \nQ 3450 4097 3450 3541 \nQ 3450 3153 3228 2886 \nQ 3006 2619 2597 2516 \nz\n\" transform=\"scale(0.015625)\"/>\n       </defs>\n       <use xlink:href=\"#DejaVuSans-32\"/>\n       <use xlink:href=\"#DejaVuSans-2e\" x=\"63.623047\"/>\n       <use xlink:href=\"#DejaVuSans-33\" x=\"95.410156\"/>\n      </g>\n     </g>\n    </g>\n    <g id=\"text_17\">\n     <!-- Loss value -->\n     <g transform=\"translate(14.798438 142.134062)rotate(-90)scale(0.1 -0.1)\">\n      <defs>\n       <path id=\"DejaVuSans-4c\" d=\"M 628 4666 \nL 1259 4666 \nL 1259 531 \nL 3531 531 \nL 3531 0 \nL 628 0 \nL 628 4666 \nz\n\" transform=\"scale(0.015625)\"/>\n       <path id=\"DejaVuSans-73\" d=\"M 2834 3397 \nL 2834 2853 \nQ 2591 2978 2328 3040 \nQ 2066 3103 1784 3103 \nQ 1356 3103 1142 2972 \nQ 928 2841 928 2578 \nQ 928 2378 1081 2264 \nQ 1234 2150 1697 2047 \nL 1894 2003 \nQ 2506 1872 2764 1633 \nQ 3022 1394 3022 966 \nQ 3022 478 2636 193 \nQ 2250 -91 1575 -91 \nQ 1294 -91 989 -36 \nQ 684 19 347 128 \nL 347 722 \nQ 666 556 975 473 \nQ 1284 391 1588 391 \nQ 1994 391 2212 530 \nQ 2431 669 2431 922 \nQ 2431 1156 2273 1281 \nQ 2116 1406 1581 1522 \nL 1381 1569 \nQ 847 1681 609 1914 \nQ 372 2147 372 2553 \nQ 372 3047 722 3315 \nQ 1072 3584 1716 3584 \nQ 2034 3584 2315 3537 \nQ 2597 3491 2834 3397 \nz\n\" transform=\"scale(0.015625)\"/>\n       <path id=\"DejaVuSans-76\" d=\"M 191 3500 \nL 800 3500 \nL 1894 563 \nL 2988 3500 \nL 3597 3500 \nL 2284 0 \nL 1503 0 \nL 191 3500 \nz\n\" transform=\"scale(0.015625)\"/>\n       <path id=\"DejaVuSans-6c\" d=\"M 603 4863 \nL 1178 4863 \nL 1178 0 \nL 603 0 \nL 603 4863 \nz\n\" transform=\"scale(0.015625)\"/>\n      </defs>\n      <use xlink:href=\"#DejaVuSans-4c\"/>\n      <use xlink:href=\"#DejaVuSans-6f\" x=\"53.962891\"/>\n      <use xlink:href=\"#DejaVuSans-73\" x=\"115.144531\"/>\n      <use xlink:href=\"#DejaVuSans-73\" x=\"167.244141\"/>\n      <use xlink:href=\"#DejaVuSans-20\" x=\"219.34375\"/>\n      <use xlink:href=\"#DejaVuSans-76\" x=\"251.130859\"/>\n      <use xlink:href=\"#DejaVuSans-61\" x=\"310.310547\"/>\n      <use xlink:href=\"#DejaVuSans-6c\" x=\"371.589844\"/>\n      <use xlink:href=\"#DejaVuSans-75\" x=\"399.373047\"/>\n      <use xlink:href=\"#DejaVuSans-65\" x=\"462.751953\"/>\n     </g>\n    </g>\n   </g>\n   <g id=\"line2d_16\">\n    <path d=\"M 58.999432 22.70439 \nL 59.202476 19.021126 \nL 59.405521 22.468164 \nL 59.608565 17.083636 \nL 60.014654 28.860802 \nL 60.217699 24.906482 \nL 60.420743 29.342214 \nL 60.623787 26.850597 \nL 61.435965 44.634861 \nL 61.63901 38.252646 \nL 61.842054 37.955588 \nL 62.045099 29.35371 \nL 62.248143 47.964547 \nL 62.451188 35.710575 \nL 62.654232 39.641558 \nL 62.857276 32.508331 \nL 63.060321 60.912088 \nL 63.263365 44.557122 \nL 63.46641 39.607261 \nL 63.872499 61.323662 \nL 64.075543 46.654336 \nL 64.278588 44.800022 \nL 64.684677 71.230945 \nL 65.090765 53.562604 \nL 65.29381 56.216096 \nL 65.496854 61.59723 \nL 65.699899 58.50129 \nL 65.902943 66.546311 \nL 66.105988 53.683707 \nL 66.309032 64.937297 \nL 66.512077 57.264786 \nL 66.715121 60.081479 \nL 66.918166 94.823428 \nL 67.12121 65.932956 \nL 67.527299 79.091975 \nL 67.933388 59.765333 \nL 68.136432 68.633812 \nL 68.339477 84.717641 \nL 68.542521 69.800107 \nL 68.745566 74.977075 \nL 68.94861 75.43759 \nL 69.151655 74.912444 \nL 69.354699 62.704991 \nL 69.557743 96.90453 \nL 69.760788 74.241229 \nL 69.963832 76.116537 \nL 70.369921 64.4113 \nL 70.572966 91.458489 \nL 70.77601 79.128932 \nL 71.182099 71.157377 \nL 71.385144 85.168595 \nL 71.588188 66.473142 \nL 71.791232 74.101783 \nL 71.994277 67.39447 \nL 72.197321 65.508081 \nL 72.400366 80.347164 \nL 72.60341 68.429909 \nL 72.806455 77.220294 \nL 73.009499 95.737959 \nL 73.212544 59.755177 \nL 73.415588 67.818968 \nL 73.618632 97.190958 \nL 73.821677 84.402146 \nL 74.024721 63.429758 \nL 74.227766 75.814719 \nL 74.43081 79.885545 \nL 74.633855 72.288042 \nL 74.836899 72.324828 \nL 75.242988 90.132533 \nL 75.446033 99.914097 \nL 75.649077 71.049252 \nL 75.852121 91.327992 \nL 76.055166 94.661268 \nL 76.25821 91.085038 \nL 76.461255 70.797435 \nL 76.664299 71.061093 \nL 76.867344 94.921161 \nL 77.273433 82.861008 \nL 77.476477 102.10583 \nL 77.679522 82.135088 \nL 77.882566 87.205305 \nL 78.08561 83.210787 \nL 78.491699 90.80956 \nL 78.694744 82.885007 \nL 78.897788 107.242899 \nL 79.100833 85.490298 \nL 79.303877 97.051393 \nL 79.506922 120.103561 \nL 79.709966 114.681981 \nL 79.913011 84.794856 \nL 80.116055 99.699207 \nL 80.319099 83.249523 \nL 80.522144 98.771845 \nL 80.725188 89.796408 \nL 80.928233 86.142698 \nL 81.131277 102.92178 \nL 81.334322 85.997075 \nL 81.537366 89.120154 \nL 81.740411 89.052614 \nL 81.943455 74.572904 \nL 82.1465 115.236753 \nL 82.552588 99.608305 \nL 82.755633 99.738493 \nL 82.958677 103.663197 \nL 83.161722 94.334805 \nL 83.364766 103.846451 \nL 83.567811 96.344342 \nL 83.770855 102.444441 \nL 83.9739 89.318261 \nL 84.176944 107.177992 \nL 84.379989 107.526759 \nL 84.583033 105.521828 \nL 84.786077 110.534475 \nL 84.989122 82.43808 \nL 85.395211 110.877517 \nL 85.598255 90.103973 \nL 85.8013 110.462142 \nL 86.004344 110.488783 \nL 86.207389 123.171893 \nL 86.410433 111.695843 \nL 86.613478 83.38705 \nL 87.019566 124.784881 \nL 87.222611 105.548528 \nL 87.425655 120.508335 \nL 87.6287 113.071365 \nL 87.831744 112.557871 \nL 88.034789 100.925715 \nL 88.237833 116.531206 \nL 88.440878 106.12578 \nL 88.643922 108.327413 \nL 88.846967 65.515674 \nL 89.050011 124.456739 \nL 89.253055 107.733771 \nL 89.4561 113.533565 \nL 89.659144 113.091521 \nL 89.862189 102.043872 \nL 90.065233 131.652418 \nL 90.268278 123.188935 \nL 90.471322 101.651621 \nL 90.674367 111.432044 \nL 90.877411 96.107784 \nL 91.080456 101.16687 \nL 91.2835 131.378614 \nL 91.486544 85.676262 \nL 91.689589 118.558583 \nL 91.892633 122.639578 \nL 92.095678 115.608965 \nL 92.298722 98.988016 \nL 92.501767 108.337149 \nL 92.704811 99.757294 \nL 92.907856 121.476045 \nL 93.1109 115.867902 \nL 93.313945 105.74217 \nL 93.516989 131.098283 \nL 93.720033 116.174125 \nL 93.923078 112.970233 \nL 94.126122 134.08358 \nL 94.329167 106.206418 \nL 94.532211 122.447656 \nL 94.735256 89.471656 \nL 94.9383 104.78828 \nL 95.141345 106.39497 \nL 95.344389 121.929275 \nL 95.547434 107.157137 \nL 95.953522 109.211013 \nL 96.156567 105.539579 \nL 96.359611 117.138131 \nL 96.562656 115.6335 \nL 96.7657 128.050809 \nL 96.968745 103.809303 \nL 97.171789 100.355816 \nL 97.374834 114.579909 \nL 97.577878 92.960091 \nL 97.780923 115.622404 \nL 97.983967 101.528817 \nL 98.187011 116.981619 \nL 98.390056 105.264717 \nL 98.5931 127.190055 \nL 98.796145 102.397628 \nL 98.999189 96.215392 \nL 99.202234 125.667723 \nL 99.405278 118.700062 \nL 99.608323 103.862738 \nL 99.811367 99.462487 \nL 100.014412 102.0712 \nL 100.217456 126.470848 \nL 100.4205 99.492475 \nL 100.623545 112.784715 \nL 100.826589 88.953414 \nL 101.232678 117.347904 \nL 101.435723 113.923996 \nL 101.638767 98.416848 \nL 101.841812 107.101502 \nL 102.044856 127.695259 \nL 102.2479 132.59063 \nL 102.450945 110.249922 \nL 102.653989 111.327339 \nL 102.857034 132.742956 \nL 103.060078 107.625461 \nL 103.466167 137.355755 \nL 103.669212 117.804087 \nL 103.872256 113.66114 \nL 104.075301 114.722449 \nL 104.278345 112.40883 \nL 104.481389 91.210429 \nL 104.887478 132.908165 \nL 105.090523 125.769441 \nL 105.496612 119.119543 \nL 105.902701 147.595601 \nL 106.30879 122.068252 \nL 106.511834 136.531019 \nL 106.714878 116.111563 \nL 106.917923 134.898446 \nL 107.120967 135.251401 \nL 107.324012 139.11686 \nL 107.527056 109.024425 \nL 107.730101 126.744866 \nL 107.933145 111.619117 \nL 108.339234 126.754407 \nL 108.542279 110.917414 \nL 108.745323 121.33223 \nL 108.948367 117.704459 \nL 109.151412 137.305562 \nL 109.354456 111.097597 \nL 109.557501 116.668764 \nL 109.760545 136.688608 \nL 109.96359 119.22818 \nL 110.166634 130.707545 \nL 110.369679 122.398006 \nL 110.572723 120.472096 \nL 110.775768 122.489069 \nL 110.978812 105.1941 \nL 111.181856 116.274723 \nL 111.384901 118.831149 \nL 111.79099 148.017291 \nL 111.994034 106.792284 \nL 112.197079 125.706838 \nL 112.400123 105.354721 \nL 112.603168 124.227404 \nL 112.806212 117.541697 \nL 113.212301 125.503467 \nL 113.415345 122.389782 \nL 113.61839 107.266419 \nL 113.821434 136.715004 \nL 114.024479 122.357131 \nL 114.227523 119.331758 \nL 114.430568 123.71386 \nL 114.633612 124.342812 \nL 114.836657 131.829448 \nL 115.039701 120.541496 \nL 115.242746 148.558925 \nL 115.44579 108.032939 \nL 115.648834 108.782637 \nL 115.851879 141.005542 \nL 116.054923 138.296268 \nL 116.461012 101.26061 \nL 116.664057 112.635291 \nL 116.867101 110.07362 \nL 117.070146 140.776964 \nL 117.27319 115.920005 \nL 117.476235 119.619569 \nL 117.679279 111.413055 \nL 117.882323 131.519317 \nL 118.085368 93.175527 \nL 118.288412 154.753343 \nL 118.491457 88.719246 \nL 118.694501 132.806967 \nL 118.897546 139.239452 \nL 119.10059 126.643978 \nL 119.506679 147.122388 \nL 119.709724 118.569957 \nL 119.912768 143.645527 \nL 120.115812 112.179421 \nL 120.318857 115.924789 \nL 120.521901 114.632401 \nL 120.724946 158.627161 \nL 120.92799 122.464106 \nL 121.131035 137.758125 \nL 121.334079 129.626263 \nL 121.537124 153.656043 \nL 121.943213 107.846786 \nL 122.146257 140.197619 \nL 122.349301 107.920468 \nL 122.958435 135.078957 \nL 123.161479 152.041569 \nL 123.567568 125.15487 \nL 123.770613 145.886071 \nL 123.973657 137.314808 \nL 124.176702 117.96892 \nL 124.379746 142.330269 \nL 124.58279 112.11694 \nL 124.785835 118.978494 \nL 124.988879 111.554046 \nL 125.191924 149.256711 \nL 125.394968 126.52782 \nL 125.598013 126.969746 \nL 125.801057 125.139812 \nL 126.004102 118.987524 \nL 126.207146 138.635594 \nL 126.613235 114.013199 \nL 126.816279 111.493169 \nL 127.019324 116.761285 \nL 127.222368 106.871721 \nL 127.425413 111.807832 \nL 127.628457 92.380238 \nL 127.831502 123.1947 \nL 128.034546 131.480489 \nL 128.237591 116.939105 \nL 128.440635 93.88588 \nL 129.049768 155.767845 \nL 129.252813 133.414058 \nL 129.455857 132.412645 \nL 129.658902 133.978359 \nL 129.861946 132.529947 \nL 130.064991 136.750388 \nL 130.268035 132.861074 \nL 130.47108 118.205727 \nL 130.674124 132.563859 \nL 131.080213 136.950547 \nL 131.486302 115.465157 \nL 131.689346 114.042302 \nL 131.892391 140.142719 \nL 132.095435 134.938981 \nL 132.29848 122.558386 \nL 132.501524 137.664672 \nL 132.704569 133.111523 \nL 132.907613 123.388145 \nL 133.110657 129.431331 \nL 133.313702 131.297219 \nL 133.516746 145.739135 \nL 133.719791 130.504638 \nL 133.922835 106.775508 \nL 134.12588 121.889974 \nL 134.328924 151.753495 \nL 134.531969 149.270174 \nL 134.735013 126.741467 \nL 134.938058 126.393812 \nL 135.141102 161.361676 \nL 135.344146 137.341138 \nL 135.547191 129.149079 \nL 135.750235 115.710675 \nL 135.95328 154.984552 \nL 136.359369 121.456215 \nL 136.562413 142.849842 \nL 136.765458 116.64154 \nL 137.171547 152.755297 \nL 137.374591 133.02126 \nL 137.577635 97.542235 \nL 137.78068 139.682994 \nL 137.983724 131.310859 \nL 138.186769 145.392435 \nL 138.389813 148.530844 \nL 138.592858 113.341207 \nL 138.795902 151.609402 \nL 138.998947 145.049809 \nL 139.201991 150.244966 \nL 139.405036 139.977281 \nL 139.60808 147.777804 \nL 139.811124 121.455036 \nL 140.014169 145.521933 \nL 140.217213 137.991342 \nL 140.420258 105.247231 \nL 140.623302 145.292742 \nL 141.029391 122.199265 \nL 141.43548 134.834754 \nL 141.638525 118.7402 \nL 141.841569 157.151148 \nL 142.044613 133.905013 \nL 142.247658 154.950924 \nL 142.450702 155.078907 \nL 142.653747 146.130078 \nL 142.856791 147.776591 \nL 143.26288 113.455649 \nL 143.872014 154.488685 \nL 144.075058 142.136919 \nL 144.278102 143.725458 \nL 144.481147 124.149124 \nL 144.684191 151.123991 \nL 144.887236 119.522324 \nL 145.09028 142.802014 \nL 145.293325 146.800808 \nL 145.496369 134.20363 \nL 145.699414 139.432155 \nL 145.902458 125.510883 \nL 146.105503 141.105527 \nL 146.308547 118.590748 \nL 146.511591 125.861614 \nL 146.714636 139.221597 \nL 146.91768 136.831641 \nL 147.120725 117.774822 \nL 147.323769 134.727331 \nL 147.526814 136.785441 \nL 147.729858 123.866293 \nL 148.135947 157.344247 \nL 148.542036 141.821093 \nL 148.74508 162.831553 \nL 148.948125 138.760452 \nL 149.151169 151.729707 \nL 149.354214 141.735641 \nL 149.557258 118.580041 \nL 149.760303 137.541341 \nL 149.963347 117.314424 \nL 150.166392 138.335626 \nL 150.369436 141.940187 \nL 150.572481 140.403707 \nL 150.775525 144.234106 \nL 150.978569 140.977049 \nL 151.181614 128.593498 \nL 151.384658 139.968089 \nL 151.587703 114.343149 \nL 151.993792 158.553583 \nL 152.196836 121.36678 \nL 152.399881 111.919701 \nL 152.602925 125.781307 \nL 152.80597 159.027615 \nL 153.009014 106.250985 \nL 153.212058 101.886025 \nL 153.415103 140.721998 \nL 153.618147 138.756589 \nL 153.821192 144.250063 \nL 154.024236 160.248976 \nL 154.227281 121.5923 \nL 154.430325 135.68137 \nL 154.63337 126.699158 \nL 154.836414 143.110281 \nL 155.039459 126.645705 \nL 155.242503 156.258169 \nL 155.648592 128.206864 \nL 155.851636 150.058681 \nL 156.054681 154.887016 \nL 156.257725 132.397562 \nL 156.46077 145.836349 \nL 156.663814 131.718242 \nL 156.866859 141.092319 \nL 157.069903 121.094417 \nL 157.272947 135.675599 \nL 157.475992 118.799207 \nL 157.679036 153.475038 \nL 158.28817 123.947967 \nL 158.694259 140.911464 \nL 158.897303 148.795693 \nL 159.100348 135.177144 \nL 159.303392 161.603197 \nL 159.709481 131.237128 \nL 159.912525 138.111126 \nL 160.11557 128.444035 \nL 160.318614 145.979356 \nL 160.521659 144.116179 \nL 160.724703 152.739645 \nL 160.927748 139.847862 \nL 161.130792 147.947151 \nL 161.333837 146.548945 \nL 161.536881 175.990972 \nL 161.739925 138.115892 \nL 161.94297 148.886456 \nL 162.146014 127.978255 \nL 162.349059 144.921584 \nL 162.552103 133.559834 \nL 162.755148 144.032185 \nL 162.958192 130.635886 \nL 163.161237 150.669733 \nL 163.364281 136.591708 \nL 163.567326 156.28755 \nL 163.77037 145.150282 \nL 163.973414 145.210397 \nL 164.176459 164.557018 \nL 164.379503 138.977387 \nL 164.582548 159.987411 \nL 164.785592 134.424161 \nL 164.988637 148.144593 \nL 165.191681 145.808864 \nL 165.394726 151.529451 \nL 165.59777 172.829841 \nL 165.800815 122.843223 \nL 166.003859 164.820501 \nL 166.206903 149.583929 \nL 166.409948 153.698943 \nL 166.612992 130.376355 \nL 166.816037 123.357685 \nL 167.019081 144.048702 \nL 167.222126 147.998821 \nL 167.42517 148.864983 \nL 167.628215 145.362081 \nL 167.831259 135.617721 \nL 168.034304 134.138291 \nL 168.237348 135.002202 \nL 168.643437 151.70396 \nL 168.846481 141.771911 \nL 169.049526 109.695681 \nL 169.455615 148.291136 \nL 169.658659 152.363636 \nL 169.861704 119.766373 \nL 170.064748 132.763544 \nL 170.267793 132.92256 \nL 170.470837 153.54363 \nL 170.673881 158.571311 \nL 170.876926 120.164954 \nL 171.07997 123.832488 \nL 171.283015 156.876532 \nL 171.486059 152.361111 \nL 171.689104 133.791474 \nL 171.892148 141.500321 \nL 172.095193 119.696269 \nL 172.298237 134.962434 \nL 172.501282 134.335352 \nL 172.704326 166.753554 \nL 173.110415 115.620249 \nL 173.313459 142.843045 \nL 173.719548 156.355713 \nL 173.922593 117.424419 \nL 174.125637 147.384185 \nL 174.328682 137.991963 \nL 174.531726 146.790882 \nL 174.734771 162.050736 \nL 174.937815 141.960523 \nL 175.140859 133.29642 \nL 175.343904 146.283706 \nL 175.546948 147.213403 \nL 175.749993 129.120292 \nL 175.953037 153.425883 \nL 176.156082 143.599559 \nL 176.359126 148.963224 \nL 176.562171 138.859953 \nL 176.765215 167.842562 \nL 176.96826 112.127607 \nL 177.171304 146.777725 \nL 177.374348 152.045402 \nL 177.577393 115.688789 \nL 177.780437 158.45571 \nL 177.983482 129.210711 \nL 178.186526 136.337038 \nL 178.389571 167.621204 \nL 178.592615 125.801155 \nL 178.998704 173.261303 \nL 179.201749 145.150622 \nL 179.404793 151.419708 \nL 179.607837 126.447375 \nL 179.810882 135.702806 \nL 180.013926 155.795183 \nL 180.216971 142.97944 \nL 180.420015 121.870112 \nL 180.62306 151.694855 \nL 180.826104 158.678042 \nL 181.029149 156.647292 \nL 181.232193 153.163844 \nL 181.435238 144.80986 \nL 181.638282 142.560718 \nL 181.841326 133.365964 \nL 182.044371 165.113798 \nL 182.247415 160.860899 \nL 182.45046 149.736293 \nL 182.653504 132.043894 \nL 182.856549 145.498594 \nL 183.059593 138.777225 \nL 183.262638 173.109904 \nL 183.465682 124.775466 \nL 183.668726 148.79909 \nL 183.871771 152.038041 \nL 184.074815 151.408627 \nL 184.27786 151.618445 \nL 184.683949 169.704612 \nL 184.886993 138.721256 \nL 185.090038 146.557312 \nL 185.496127 168.524556 \nL 185.699171 140.091612 \nL 185.902215 136.232834 \nL 186.10526 119.798413 \nL 186.308304 152.073201 \nL 186.511349 133.605275 \nL 186.714393 128.439524 \nL 186.917438 152.275985 \nL 187.323527 136.49599 \nL 187.526571 114.40418 \nL 187.729616 148.617744 \nL 187.93266 132.410545 \nL 188.541793 138.977914 \nL 188.744838 133.858306 \nL 188.947882 138.290949 \nL 189.353971 155.011908 \nL 189.557016 140.275239 \nL 189.76006 155.57583 \nL 190.166149 161.530553 \nL 190.369193 140.294488 \nL 190.572238 157.128658 \nL 190.775282 140.052883 \nL 190.978327 157.648096 \nL 191.181371 153.362476 \nL 191.384416 146.201324 \nL 191.58746 168.790716 \nL 191.790505 140.81324 \nL 191.993549 156.935945 \nL 192.196594 125.368137 \nL 192.399638 166.422217 \nL 192.602682 132.156001 \nL 192.805727 162.456647 \nL 193.008771 166.320715 \nL 193.211816 182.10752 \nL 193.41486 132.306719 \nL 193.617905 153.247871 \nL 193.820949 146.442525 \nL 194.023994 156.038487 \nL 194.227038 141.381465 \nL 194.430083 155.671328 \nL 194.633127 161.697833 \nL 194.836171 151.19248 \nL 195.039216 155.940632 \nL 195.24226 141.533721 \nL 195.445305 154.28115 \nL 195.648349 137.63025 \nL 195.851394 154.946992 \nL 196.054438 131.232818 \nL 196.257483 137.032529 \nL 196.460527 172.890081 \nL 196.663572 167.87593 \nL 196.866616 139.825062 \nL 197.06966 138.571087 \nL 197.272705 162.051065 \nL 197.475749 171.15341 \nL 197.881838 145.705413 \nL 198.084883 151.355592 \nL 198.287927 172.939021 \nL 198.490972 168.24955 \nL 198.897061 131.000788 \nL 199.100105 119.605776 \nL 199.303149 179.315719 \nL 199.506194 165.04403 \nL 199.709238 160.29276 \nL 199.912283 135.467325 \nL 200.318372 169.518913 \nL 200.521416 177.282554 \nL 200.724461 124.213965 \nL 200.927505 166.340989 \nL 201.13055 131.494755 \nL 201.333594 150.628441 \nL 201.536638 126.660376 \nL 201.739683 127.443931 \nL 201.942727 176.276712 \nL 202.348816 119.477246 \nL 202.754905 164.790622 \nL 202.95795 166.170296 \nL 203.160994 149.953014 \nL 203.364039 160.234264 \nL 203.567083 153.769285 \nL 203.770127 167.954898 \nL 203.973172 146.639853 \nL 204.176216 177.345289 \nL 204.379261 157.396826 \nL 204.582305 155.594106 \nL 204.78535 149.664892 \nL 205.800572 161.895612 \nL 206.003616 167.829707 \nL 206.206661 114.81848 \nL 206.61275 181.168078 \nL 206.815794 122.996186 \nL 207.018839 157.435426 \nL 207.221883 122.475975 \nL 207.627972 145.889258 \nL 208.034061 137.356748 \nL 208.237105 166.880062 \nL 208.44015 151.033604 \nL 208.643194 156.717914 \nL 208.846239 156.247452 \nL 209.049283 182.004307 \nL 209.252328 135.264984 \nL 209.658417 159.644425 \nL 209.861461 166.372378 \nL 210.26755 141.427234 \nL 210.470594 112.490111 \nL 210.673639 148.991686 \nL 210.876683 162.362085 \nL 211.079728 146.330452 \nL 211.282772 153.427786 \nL 211.485817 154.848766 \nL 211.688861 170.38433 \nL 211.891906 149.830443 \nL 212.09495 168.924864 \nL 212.297994 155.624519 \nL 212.501039 175.30709 \nL 212.704083 162.256466 \nL 212.907128 129.119703 \nL 213.110172 128.167092 \nL 213.313217 180.358178 \nL 213.719306 137.061444 \nL 213.92235 157.68846 \nL 214.125395 150.240007 \nL 214.328439 127.221592 \nL 214.531483 151.583979 \nL 214.937572 138.694634 \nL 215.140617 154.131165 \nL 215.343661 146.091107 \nL 215.546706 142.696035 \nL 215.952795 153.310607 \nL 216.155839 140.613545 \nL 216.358884 157.060776 \nL 216.561928 163.210069 \nL 216.764972 140.943395 \nL 216.968017 144.275496 \nL 217.171061 157.192299 \nL 217.374106 161.478539 \nL 217.57715 155.880309 \nL 217.780195 146.651198 \nL 217.983239 170.319082 \nL 218.186284 118.600147 \nL 218.592373 142.85034 \nL 218.795417 157.92806 \nL 218.998461 127.471397 \nL 219.201506 141.672969 \nL 219.40455 175.421038 \nL 219.607595 142.528149 \nL 220.013684 135.393465 \nL 220.216728 149.875748 \nL 220.419773 184.812592 \nL 220.622817 147.190028 \nL 220.825862 145.139176 \nL 221.028906 134.626854 \nL 221.23195 134.854952 \nL 221.434995 150.198128 \nL 221.638039 142.279578 \nL 221.841084 168.101873 \nL 222.044128 137.852261 \nL 222.247173 151.774195 \nL 222.450217 132.765558 \nL 222.653262 174.20311 \nL 222.856306 123.124873 \nL 223.059351 159.253119 \nL 223.262395 174.463807 \nL 223.465439 153.830829 \nL 223.668484 159.913188 \nL 223.871528 119.296036 \nL 224.074573 125.211029 \nL 224.277617 154.74527 \nL 224.480662 141.544748 \nL 224.683706 165.251978 \nL 224.886751 156.268875 \nL 225.089795 172.14738 \nL 225.29284 153.355032 \nL 225.495884 157.455032 \nL 225.698928 176.727882 \nL 226.105017 144.900231 \nL 226.308062 148.94414 \nL 226.511106 163.126515 \nL 226.714151 154.659779 \nL 226.917195 165.054679 \nL 227.12024 161.091357 \nL 227.323284 145.632661 \nL 227.526329 152.120798 \nL 227.932417 129.284743 \nL 228.135462 158.653962 \nL 228.338506 161.739643 \nL 228.541551 136.103868 \nL 228.94764 160.273147 \nL 229.150684 131.294031 \nL 229.353729 136.367343 \nL 229.556773 138.348274 \nL 229.759818 146.927212 \nL 229.962862 122.829428 \nL 230.165906 119.121341 \nL 230.368951 153.213814 \nL 230.77504 134.724284 \nL 230.978084 136.462848 \nL 231.384173 174.932074 \nL 231.587218 106.452707 \nL 231.790262 152.427703 \nL 231.993307 147.776508 \nL 232.196351 165.034473 \nL 232.399395 172.813159 \nL 232.805484 130.687905 \nL 233.008529 158.108794 \nL 233.211573 152.424265 \nL 233.414618 159.611198 \nL 233.617662 129.278879 \nL 234.226796 177.733672 \nL 234.632884 140.320923 \nL 234.835929 128.952021 \nL 235.038973 145.394433 \nL 235.242018 146.34649 \nL 235.445062 179.117325 \nL 235.648107 141.006866 \nL 235.851151 175.526107 \nL 236.25724 149.348527 \nL 236.460285 163.027905 \nL 236.866373 122.29017 \nL 237.069418 147.952157 \nL 237.272462 146.772168 \nL 237.678551 171.294417 \nL 237.881596 137.671431 \nL 238.08464 142.259891 \nL 238.287685 126.314686 \nL 238.490729 151.413197 \nL 238.693774 129.46244 \nL 238.896818 120.710992 \nL 239.099862 160.922645 \nL 239.302907 175.311951 \nL 239.708996 125.675733 \nL 239.91204 146.620234 \nL 240.115085 131.676104 \nL 240.318129 174.440108 \nL 240.521174 155.597415 \nL 240.724218 171.467947 \nL 240.927262 113.842727 \nL 241.130307 168.126315 \nL 241.333351 160.160952 \nL 241.536396 144.504351 \nL 241.73944 178.981295 \nL 241.942485 122.245038 \nL 242.348574 193.402815 \nL 242.551618 152.997779 \nL 242.754663 171.258346 \nL 242.957707 145.255022 \nL 243.160751 142.851738 \nL 243.363796 121.750089 \nL 243.56684 191.53376 \nL 243.769885 128.635215 \nL 243.972929 139.444945 \nL 244.175974 140.527934 \nL 244.379018 174.178926 \nL 244.582063 150.443758 \nL 244.988152 184.77999 \nL 245.191196 163.045658 \nL 245.39424 154.080559 \nL 245.597285 163.502375 \nL 245.800329 135.311865 \nL 246.003374 157.98472 \nL 246.206418 144.223049 \nL 246.409463 171.024764 \nL 246.612507 176.603729 \nL 247.221641 151.33837 \nL 247.424685 120.770162 \nL 247.830774 175.112858 \nL 248.033818 160.602625 \nL 248.236863 161.266529 \nL 248.439907 143.250122 \nL 248.642952 165.85364 \nL 248.845996 140.735838 \nL 249.049041 166.589123 \nL 249.252085 140.005695 \nL 249.45513 145.501836 \nL 249.658174 155.263802 \nL 249.861218 147.249804 \nL 250.064263 158.919843 \nL 250.267307 133.224459 \nL 250.470352 158.13118 \nL 250.673396 150.979925 \nL 250.876441 148.794864 \nL 251.079485 144.510247 \nL 251.28253 129.451349 \nL 251.485574 178.817364 \nL 251.688619 175.232164 \nL 251.891663 131.718052 \nL 252.094707 159.336108 \nL 252.297752 164.948609 \nL 252.500796 157.917529 \nL 252.703841 158.867702 \nL 252.906885 176.304012 \nL 253.10993 144.060491 \nL 253.312974 152.4309 \nL 253.516019 149.139533 \nL 253.719063 123.613143 \nL 253.922108 161.61688 \nL 254.125152 163.229153 \nL 254.531241 134.982073 \nL 254.734285 172.344685 \nL 255.140374 155.928034 \nL 255.343419 135.347877 \nL 255.546463 193.260729 \nL 255.749508 151.628733 \nL 256.155597 185.773756 \nL 256.358641 181.176823 \nL 256.76473 159.635343 \nL 256.967774 179.023556 \nL 257.170819 152.420175 \nL 257.373863 164.010459 \nL 257.576908 186.542058 \nL 257.779952 187.432907 \nL 257.982997 157.805434 \nL 258.389086 141.34235 \nL 258.795174 159.722425 \nL 258.998219 174.020704 \nL 259.201263 165.171839 \nL 259.404308 170.585706 \nL 259.607352 154.657103 \nL 259.810397 169.817296 \nL 260.013441 148.593482 \nL 260.216486 157.03707 \nL 260.41953 150.343503 \nL 260.622575 129.460409 \nL 260.825619 159.439513 \nL 261.028663 162.749272 \nL 261.231708 188.567781 \nL 261.434752 139.491987 \nL 261.637797 160.009691 \nL 261.840841 163.48128 \nL 262.043886 178.564971 \nL 262.24693 127.096866 \nL 262.449975 111.191334 \nL 262.653019 155.672153 \nL 262.856064 148.566672 \nL 263.059108 174.956205 \nL 263.262152 175.869549 \nL 263.465197 168.807856 \nL 263.668241 146.355044 \nL 263.871286 190.065368 \nL 264.07433 160.617897 \nL 264.277375 156.424564 \nL 264.480419 164.465423 \nL 264.683464 133.21384 \nL 264.886508 155.926725 \nL 265.089553 130.906405 \nL 265.495641 167.012863 \nL 265.698686 138.776012 \nL 265.90173 133.88788 \nL 266.307819 155.417477 \nL 266.510864 144.137552 \nL 266.713908 163.39072 \nL 266.916953 141.528875 \nL 267.119997 154.36873 \nL 267.323041 174.541876 \nL 267.526086 125.82022 \nL 267.932175 157.362974 \nL 268.135219 144.958224 \nL 268.338264 154.674738 \nL 268.541308 135.788886 \nL 268.744353 134.417354 \nL 268.947397 127.737912 \nL 269.55653 178.895866 \nL 269.759575 167.538763 \nL 269.962619 181.71474 \nL 270.165664 169.799387 \nL 270.368708 138.162089 \nL 270.571753 159.395082 \nL 270.774797 156.627485 \nL 270.977842 133.338126 \nL 271.180886 169.416797 \nL 271.383931 140.60689 \nL 271.586975 179.126999 \nL 271.790019 144.566804 \nL 271.993064 147.291233 \nL 272.399153 165.764191 \nL 272.805242 149.767372 \nL 273.008286 164.707518 \nL 273.211331 155.571401 \nL 273.414375 163.287034 \nL 273.61742 183.255306 \nL 273.820464 143.232637 \nL 274.023508 157.293161 \nL 274.226553 161.467188 \nL 274.429597 147.597997 \nL 274.632642 182.789789 \nL 274.835686 140.051105 \nL 275.038731 163.109373 \nL 275.241775 151.154935 \nL 275.44482 162.93963 \nL 275.647864 162.010668 \nL 275.850909 162.555239 \nL 276.053953 171.059465 \nL 276.256997 186.07361 \nL 276.460042 155.871419 \nL 276.663086 161.509659 \nL 276.866131 161.779876 \nL 277.27222 152.257866 \nL 277.475264 177.423121 \nL 277.678309 158.041963 \nL 277.881353 158.34324 \nL 278.084398 190.874433 \nL 278.287442 174.718545 \nL 278.490486 169.681052 \nL 278.693531 151.40173 \nL 278.896575 159.49863 \nL 279.09962 175.131437 \nL 279.708753 119.914427 \nL 279.911798 154.519675 \nL 280.114842 157.946302 \nL 280.317887 152.111386 \nL 280.520931 189.611797 \nL 280.723975 151.526194 \nL 280.92702 149.455806 \nL 281.130064 144.832887 \nL 281.333109 159.834204 \nL 281.536153 147.096903 \nL 281.739198 174.801662 \nL 281.942242 162.45482 \nL 282.145287 169.518985 \nL 282.348331 147.148248 \nL 282.551376 139.76757 \nL 282.75442 179.691588 \nL 282.957464 158.266139 \nL 283.160509 163.720234 \nL 283.566598 121.304836 \nL 283.769642 175.315252 \nL 283.972687 167.124142 \nL 284.175731 142.694319 \nL 284.378776 143.805761 \nL 284.58182 146.439484 \nL 284.784865 173.322485 \nL 284.987909 178.406619 \nL 285.393998 158.171932 \nL 285.597042 161.569866 \nL 285.800087 201.535341 \nL 286.003131 157.033118 \nL 286.206176 142.195986 \nL 286.40922 179.182831 \nL 286.612265 163.043328 \nL 286.815309 183.414988 \nL 287.018354 141.63633 \nL 287.221398 189.392453 \nL 287.424442 137.120771 \nL 287.627487 151.381625 \nL 287.830531 189.016908 \nL 288.23662 158.542187 \nL 288.439665 214.756364 \nL 288.845754 163.231057 \nL 289.048798 168.433482 \nL 289.251843 162.430457 \nL 289.454887 131.66418 \nL 289.657931 171.203523 \nL 289.860976 180.767062 \nL 290.06402 170.573479 \nL 290.267065 167.541257 \nL 290.673154 176.497312 \nL 290.876198 187.284901 \nL 291.079243 142.964273 \nL 291.282287 152.290478 \nL 291.485332 149.226335 \nL 291.688376 173.503184 \nL 291.89142 176.348167 \nL 292.094465 153.492941 \nL 292.297509 144.316248 \nL 292.703598 167.91461 \nL 292.906643 164.285496 \nL 293.109687 178.009847 \nL 293.515776 164.127475 \nL 293.718821 156.450168 \nL 293.921865 174.638865 \nL 294.124909 166.396551 \nL 294.327954 168.584604 \nL 294.530998 179.243531 \nL 294.734043 181.894468 \nL 294.937087 159.68773 \nL 295.140132 158.65174 \nL 295.343176 156.709187 \nL 295.546221 143.914611 \nL 295.952309 157.915051 \nL 296.155354 144.769916 \nL 296.358398 172.10182 \nL 296.561443 158.357474 \nL 296.764487 175.784085 \nL 296.967532 178.20542 \nL 297.170576 176.980562 \nL 297.373621 157.239549 \nL 297.576665 155.693553 \nL 297.77971 145.705373 \nL 297.982754 194.638933 \nL 298.185798 154.83131 \nL 298.591887 196.619028 \nL 298.794932 143.749129 \nL 298.997976 188.878375 \nL 299.201021 174.047854 \nL 299.404065 167.922786 \nL 299.810154 139.038807 \nL 300.013199 142.782354 \nL 300.216243 154.585076 \nL 300.419287 189.395348 \nL 300.622332 141.163124 \nL 300.825376 137.579307 \nL 301.028421 142.050616 \nL 301.231465 162.150343 \nL 301.637554 143.211303 \nL 301.840599 182.035172 \nL 302.043643 141.89505 \nL 302.246688 159.326216 \nL 302.449732 148.561467 \nL 302.652776 173.106342 \nL 302.855821 177.754712 \nL 303.058865 139.154134 \nL 303.26191 147.559309 \nL 303.464954 190.267528 \nL 303.667999 174.768362 \nL 303.871043 172.849561 \nL 304.074088 159.459247 \nL 304.277132 168.150029 \nL 304.480177 147.579931 \nL 304.683221 175.089063 \nL 304.886265 173.188448 \nL 305.08931 196.365932 \nL 305.495399 141.146324 \nL 305.698443 142.333045 \nL 306.104532 180.688833 \nL 306.307577 155.475135 \nL 306.510621 149.475216 \nL 306.713666 176.543227 \nL 306.91671 160.001704 \nL 307.119754 156.135811 \nL 307.322799 159.33067 \nL 307.525843 170.373118 \nL 307.728888 206.325719 \nL 307.931932 167.54254 \nL 308.134977 153.220996 \nL 308.338021 173.851412 \nL 308.541066 173.521076 \nL 308.74411 152.779173 \nL 308.947155 165.927585 \nL 309.150199 157.344122 \nL 309.353243 196.376704 \nL 309.556288 163.412603 \nL 309.759332 198.759454 \nL 309.962377 145.319534 \nL 310.165421 159.787507 \nL 310.57151 144.250595 \nL 310.774555 141.300095 \nL 310.977599 153.537777 \nL 311.180644 188.507642 \nL 311.383688 163.032089 \nL 311.586732 152.054806 \nL 311.789777 171.657315 \nL 311.992821 120.743142 \nL 312.195866 191.315623 \nL 312.39891 140.081251 \nL 312.601955 152.900787 \nL 312.804999 191.439082 \nL 313.008044 143.703486 \nL 313.211088 199.041193 \nL 313.414133 171.288275 \nL 313.617177 173.640624 \nL 313.820221 156.125043 \nL 314.429355 141.867483 \nL 314.632399 152.288977 \nL 314.835444 179.35754 \nL 315.038488 167.400819 \nL 315.241533 199.321024 \nL 315.444577 144.947638 \nL 315.647622 172.290622 \nL 316.05371 138.94456 \nL 316.459799 161.512502 \nL 316.662844 160.918888 \nL 316.865888 168.007938 \nL 317.068933 123.331384 \nL 317.271977 161.43968 \nL 317.475022 167.873382 \nL 317.678066 186.050607 \nL 318.084155 150.824227 \nL 318.287199 168.6638 \nL 318.490244 154.631737 \nL 318.693288 175.731285 \nL 318.896333 153.066422 \nL 319.099377 148.377465 \nL 319.302422 199.533399 \nL 319.505466 170.011363 \nL 319.708511 169.170377 \nL 320.1146 135.534509 \nL 320.317644 137.504995 \nL 320.520688 181.087057 \nL 320.723733 149.59113 \nL 320.926777 169.717224 \nL 321.332866 180.765546 \nL 321.535911 167.539044 \nL 321.738955 166.274191 \nL 322.145044 179.009579 \nL 322.348088 175.388081 \nL 322.551133 157.944585 \nL 322.754177 163.717236 \nL 322.957222 159.03141 \nL 323.160266 180.141764 \nL 323.363311 164.2398 \nL 323.566355 160.56877 \nL 323.7694 146.20445 \nL 323.972444 153.726738 \nL 324.175489 124.826189 \nL 324.581577 198.024954 \nL 324.784622 170.348567 \nL 324.987666 175.317373 \nL 325.190711 136.46525 \nL 325.393755 120.992291 \nL 325.5968 177.071624 \nL 325.799844 170.531516 \nL 326.002889 154.611677 \nL 326.205933 154.345663 \nL 326.408978 161.554139 \nL 326.612022 175.439472 \nL 326.815066 141.721995 \nL 327.018111 147.964152 \nL 327.221155 173.293784 \nL 327.4242 139.369266 \nL 327.627244 186.726342 \nL 327.830289 194.928564 \nL 328.033333 172.805995 \nL 328.236378 183.55802 \nL 328.439422 160.326854 \nL 328.642467 169.595462 \nL 328.845511 143.576937 \nL 329.048555 189.327654 \nL 329.2516 152.193727 \nL 329.657689 171.790695 \nL 329.860733 125.07705 \nL 330.063778 168.215552 \nL 330.266822 150.218137 \nL 330.469867 152.701114 \nL 330.672911 133.383198 \nL 331.079 167.0219 \nL 331.282044 141.795586 \nL 331.485089 157.960438 \nL 331.688133 155.699265 \nL 332.094222 184.289953 \nL 332.297267 185.622719 \nL 332.500311 166.153239 \nL 332.703356 180.814843 \nL 332.9064 153.019343 \nL 333.109445 167.650531 \nL 333.312489 168.598853 \nL 333.515533 182.232692 \nL 333.718578 150.487686 \nL 333.921622 150.627418 \nL 334.124667 116.559495 \nL 334.530756 160.093358 \nL 334.7338 170.362839 \nL 334.936845 154.985114 \nL 335.139889 162.532519 \nL 335.342934 140.537016 \nL 335.545978 149.005309 \nL 335.749022 167.428932 \nL 335.952067 203.368833 \nL 336.358156 170.975662 \nL 336.5612 128.756274 \nL 336.764245 168.905524 \nL 336.967289 181.179904 \nL 337.170334 182.625403 \nL 337.373378 179.388133 \nL 337.576423 178.101133 \nL 337.779467 165.763408 \nL 337.982511 185.332587 \nL 338.3886 113.357454 \nL 338.591645 139.187036 \nL 338.794689 195.119007 \nL 338.997734 139.026367 \nL 339.200778 160.420511 \nL 339.403823 168.942231 \nL 339.606867 157.949466 \nL 339.809912 158.941949 \nL 340.012956 142.467264 \nL 340.216 182.68804 \nL 340.419045 166.046345 \nL 340.622089 132.237969 \nL 340.825134 170.227018 \nL 341.028178 171.540385 \nL 341.231223 149.3533 \nL 341.434267 167.029224 \nL 341.637312 159.993712 \nL 342.043401 169.809875 \nL 342.246445 154.735852 \nL 342.449489 186.406917 \nL 342.652534 167.222687 \nL 342.855578 159.643269 \nL 343.058623 162.915584 \nL 343.261667 141.126566 \nL 343.464712 142.515841 \nL 343.870801 159.573232 \nL 344.073845 162.529976 \nL 344.27689 149.552547 \nL 344.479934 176.544218 \nL 344.682978 155.331299 \nL 344.886023 148.079179 \nL 345.089067 178.358961 \nL 345.292112 144.619132 \nL 345.495156 162.386227 \nL 345.698201 151.221107 \nL 345.901245 170.696344 \nL 346.10429 143.002072 \nL 346.307334 176.749886 \nL 346.510379 136.336235 \nL 346.713423 147.041735 \nL 346.916467 147.956765 \nL 347.322556 177.186254 \nL 347.525601 145.528991 \nL 347.93169 187.723427 \nL 348.134734 175.916241 \nL 348.337779 151.620388 \nL 348.540823 149.176026 \nL 348.743868 206.290687 \nL 348.946912 165.591874 \nL 349.149956 167.664608 \nL 349.556045 157.523808 \nL 349.75909 140.453929 \nL 350.368223 175.769429 \nL 350.571268 183.931089 \nL 350.774312 177.37821 \nL 350.977356 203.921022 \nL 351.180401 145.179341 \nL 351.383445 137.422303 \nL 351.58649 150.978868 \nL 351.789534 178.058719 \nL 351.992579 159.548133 \nL 352.195623 182.331721 \nL 352.398668 154.284032 \nL 352.804757 178.796798 \nL 353.007801 155.613633 \nL 353.210845 158.803963 \nL 353.41389 181.991742 \nL 353.616934 174.832513 \nL 354.023023 153.66796 \nL 354.226068 211.984046 \nL 354.429112 154.633936 \nL 354.835201 177.386569 \nL 355.038246 148.248821 \nL 355.24129 179.052119 \nL 355.444334 155.781851 \nL 355.850423 197.436615 \nL 356.053468 158.563179 \nL 356.256512 150.699361 \nL 356.459557 150.280746 \nL 356.662601 191.271641 \nL 356.865646 149.385656 \nL 357.06869 169.070544 \nL 357.271735 172.039332 \nL 357.474779 159.151217 \nL 357.677823 170.557674 \nL 357.880868 149.133773 \nL 358.083912 174.809862 \nL 358.286957 158.114676 \nL 358.490001 182.935287 \nL 358.693046 143.565015 \nL 358.89609 178.979526 \nL 359.099135 164.783107 \nL 359.302179 179.630034 \nL 359.505224 164.325063 \nL 359.708268 165.936635 \nL 359.911312 174.417982 \nL 360.114357 147.523303 \nL 360.317401 170.287146 \nL 360.520446 155.169241 \nL 360.72349 182.187748 \nL 360.926535 180.287486 \nL 361.129579 143.872707 \nL 361.332624 152.778916 \nL 361.535668 145.247663 \nL 361.738713 146.294688 \nL 361.941757 173.855583 \nL 362.144801 171.308562 \nL 362.347846 161.767183 \nL 362.55089 159.025224 \nL 362.753935 177.097253 \nL 362.956979 179.051604 \nL 363.160024 196.34354 \nL 363.363068 169.495137 \nL 363.363068 169.495137 \n\" clip-path=\"url(#p7609d517ce)\" style=\"fill: none; stroke: #1f77b4; stroke-width: 1.5; stroke-linecap: square\"/>\n   </g>\n   <g id=\"patch_3\">\n    <path d=\"M 43.78125 224.64 \nL 43.78125 7.2 \n\" style=\"fill: none; stroke: #000000; stroke-width: 0.8; stroke-linejoin: miter; stroke-linecap: square\"/>\n   </g>\n   <g id=\"patch_4\">\n    <path d=\"M 378.58125 224.64 \nL 378.58125 7.2 \n\" style=\"fill: none; stroke: #000000; stroke-width: 0.8; stroke-linejoin: miter; stroke-linecap: square\"/>\n   </g>\n   <g id=\"patch_5\">\n    <path d=\"M 43.78125 224.64 \nL 378.58125 224.64 \n\" style=\"fill: none; stroke: #000000; stroke-width: 0.8; stroke-linejoin: miter; stroke-linecap: square\"/>\n   </g>\n   <g id=\"patch_6\">\n    <path d=\"M 43.78125 7.2 \nL 378.58125 7.2 \n\" style=\"fill: none; stroke: #000000; stroke-width: 0.8; stroke-linejoin: miter; stroke-linecap: square\"/>\n   </g>\n  </g>\n </g>\n <defs>\n  <clipPath id=\"p7609d517ce\">\n   <rect x=\"43.78125\" y=\"7.2\" width=\"334.8\" height=\"217.44\"/>\n  </clipPath>\n </defs>\n</svg>\n",
      "text/plain": [
       "<Figure size 432x288 with 1 Axes>"
      ]
     },
     "metadata": {
      "needs_background": "light"
     },
     "output_type": "display_data"
    }
   ],
   "source": [
    "# Implement softmax.train() by filling in the code to extract a batch of data\n",
    "# and perform the gradient step.\n",
    "import time\n",
    "\n",
    "\n",
    "tic = time.time()\n",
    "loss_hist = softmax.train(X_train, y_train, learning_rate=1e-7,\n",
    "                      num_iters=1500, verbose=True)\n",
    "toc = time.time()\n",
    "print('That took {}s'.format(toc - tic))\n",
    "\n",
    "plt.plot(loss_hist)\n",
    "plt.xlabel('Iteration number')\n",
    "plt.ylabel('Loss value')\n",
    "plt.show()"
   ]
  },
  {
   "cell_type": "markdown",
   "metadata": {},
   "source": [
    "### Evaluate the performance of the trained softmax classifier on the validation data."
   ]
  },
  {
   "cell_type": "code",
   "execution_count": 12,
   "metadata": {},
   "outputs": [
    {
     "name": "stdout",
     "output_type": "stream",
     "text": [
      "training accuracy: 0.3804489795918367\n",
      "validation accuracy: 0.402\n"
     ]
    }
   ],
   "source": [
    "## Implement softmax.predict() and use it to compute the training and testing error.\n",
    "\n",
    "y_train_pred = softmax.predict(X_train)\n",
    "print('training accuracy: {}'.format(np.mean(np.equal(y_train,y_train_pred), )))\n",
    "y_val_pred = softmax.predict(X_val)\n",
    "print('validation accuracy: {}'.format(np.mean(np.equal(y_val, y_val_pred)), ))"
   ]
  },
  {
   "cell_type": "markdown",
   "metadata": {},
   "source": [
    "## Optimize the softmax classifier\n",
    "\n",
    "You may copy and paste your optimization code from the SVM here."
   ]
  },
  {
   "cell_type": "code",
   "execution_count": 13,
   "metadata": {},
   "outputs": [
    {
     "data": {
      "text/plain": [
       "2.220446049250313e-16"
      ]
     },
     "execution_count": 13,
     "metadata": {},
     "output_type": "execute_result"
    }
   ],
   "source": [
    "np.finfo(float).eps"
   ]
  },
  {
   "cell_type": "code",
   "execution_count": 14,
   "metadata": {
    "scrolled": false
   },
   "outputs": [
    {
     "name": "stdout",
     "output_type": "stream",
     "text": [
      "Max  Accuracy:  0.418\n",
      "Max  Accuracy Learning Rate:  1.2915496650148827e-06\n"
     ]
    }
   ],
   "source": [
    "# ================================================================ #\n",
    "# YOUR CODE HERE:\n",
    "#   Train the Softmax classifier with different learning rates and \n",
    "#     evaluate on the validation data.\n",
    "#   Report:\n",
    "#     - The best learning rate of the ones you tested.  \n",
    "#     - The best validation accuracy corresponding to the best validation error.\n",
    "#\n",
    "#   Select the SVM that achieved the best validation error and report\n",
    "#     its error rate on the test set.\n",
    "# ================================================================ #\n",
    "learning_rates = np.power(10,np.linspace(-9,-5, 10))\n",
    "accuracy = np.zeros_like(learning_rates)\n",
    "for i,rate in enumerate(learning_rates):\n",
    "    loss_hist = softmax.train(X_train, y_train, learning_rate=rate,\n",
    "                      num_iters=1500, verbose=False)\n",
    "    y_val_pred = softmax.predict(X_val)\n",
    "\n",
    "    accuracy[i] = np.mean(np.equal(y_val, y_val_pred))\n",
    "print(\"Max  Accuracy: \", np.max(accuracy))\n",
    "print(\"Max  Accuracy Learning Rate: \", learning_rates[np.argmax(accuracy)])\n",
    "# ================================================================ #\n",
    "# END YOUR CODE HERE\n",
    "# ================================================================ #\n"
   ]
  }
 ],
 "metadata": {
  "interpreter": {
   "hash": "d1eca40edbf1d22f55e359be109684473e361eeb14a023435a7216c882ef710f"
  },
  "kernelspec": {
   "display_name": "Python 3.10.0 64-bit ('NN_hw2': conda)",
   "name": "python3"
  },
  "language_info": {
   "codemirror_mode": {
    "name": "ipython",
    "version": 3
   },
   "file_extension": ".py",
   "mimetype": "text/x-python",
   "name": "python",
   "nbconvert_exporter": "python",
   "pygments_lexer": "ipython3",
   "version": "3.10.0"
  }
 },
 "nbformat": 4,
 "nbformat_minor": 2
}
